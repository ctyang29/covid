{
 "metadata": {
  "language_info": {
   "codemirror_mode": {
    "name": "ipython",
    "version": 3
   },
   "file_extension": ".py",
   "mimetype": "text/x-python",
   "name": "python",
   "nbconvert_exporter": "python",
   "pygments_lexer": "ipython3",
   "version": "3.6.2-final"
  },
  "orig_nbformat": 2,
  "kernelspec": {
   "name": "python_defaultSpec_1607135052717",
   "display_name": "Python 3.6.2 64-bit"
  }
 },
 "nbformat": 4,
 "nbformat_minor": 2,
 "cells": [
  {
   "cell_type": "code",
   "execution_count": 67,
   "metadata": {},
   "outputs": [],
   "source": [
    "import os\n",
    "import pandas as pd"
   ]
  },
  {
   "cell_type": "code",
   "execution_count": 68,
   "metadata": {},
   "outputs": [],
   "source": [
    "path = os.getcwd()\n",
    "FILE_NAME = \"state_policy_updates_20201202_0721\""
   ]
  },
  {
   "cell_type": "code",
   "execution_count": 69,
   "metadata": {},
   "outputs": [
    {
     "output_type": "execute_result",
     "data": {
      "text/plain": "     state_id          county  fips_code policy_level        date  \\\n0          HI             NaN        NaN        state  2020-05-18   \n1          TX          Kinney    48271.0       county  2020-07-03   \n2          ID          Custer    16037.0       county  2020-10-27   \n3          UT           Wayne    49055.0       county  2020-11-24   \n4          TX          Borden    48033.0       county  2020-07-03   \n...       ...             ...        ...          ...         ...   \n3712       AL             NaN        NaN        state  2020-11-08   \n3713       OR             NaN        NaN        state  2020-12-02   \n3714       TX   Travis County    48453.0       county  2020-05-08   \n3715       TX  Liberty County    48291.0       county  2020-04-30   \n3716       MO  Johnson County    29101.0       county  2020-04-30   \n\n                 policy_type start_stop  \\\n0              Manufacturing      start   \n1           Mask Requirement      start   \n2                    Phase 3      start   \n3                    Phase 1      start   \n4           Mask Requirement      start   \n...                      ...        ...   \n3712       Houses of Worship       stop   \n3713  Outdoor and Recreation       stop   \n3714        Shelter in Place       stop   \n3715        Shelter in Place       stop   \n3716        Shelter in Place       stop   \n\n                                               comments  \\\n0     Policy_Details: Open with adjusted \"Safe Pract...   \n1     Policy_Details: County is approved to be exemp...   \n2     Policy_Details: No greater than 50 people at i...   \n3     Policy_Details: Restrictions for highest level...   \n4     Policy_Details: County is approved to be exemp...   \n...                                                 ...   \n3712  Policy_Details: On 9/30 amended Safer at Home ...   \n3713  Policy_Details: Outdoor and recreation facilit...   \n3714                           Travis County Policy End   \n3715                          Liberty County Policy End   \n3716                          Johnson County Policy End   \n\n                                                 source  total_phases  \n0     sip_submission_form: https://governor.hawaii.g...           NaN  \n1     sip_submission_form: https://tdem.texas.gov/ga...           NaN  \n2     sip_submission_form: https://coronavirus.idaho...           4.0  \n3     sip_submission_form: https://coronavirus.utah....           3.0  \n4     sip_submission_form: https://tdem.texas.gov/ga...           NaN  \n...                                                 ...           ...  \n3712  sip_submission_form: https://governor.alabama....           NaN  \n3713  sip_submission_form: https://www.oregon.gov/go...           NaN  \n3714                                           wikidata           NaN  \n3715                                           wikidata           NaN  \n3716                                           wikidata           NaN  \n\n[3717 rows x 10 columns]",
      "text/html": "<div>\n<style scoped>\n    .dataframe tbody tr th:only-of-type {\n        vertical-align: middle;\n    }\n\n    .dataframe tbody tr th {\n        vertical-align: top;\n    }\n\n    .dataframe thead th {\n        text-align: right;\n    }\n</style>\n<table border=\"1\" class=\"dataframe\">\n  <thead>\n    <tr style=\"text-align: right;\">\n      <th></th>\n      <th>state_id</th>\n      <th>county</th>\n      <th>fips_code</th>\n      <th>policy_level</th>\n      <th>date</th>\n      <th>policy_type</th>\n      <th>start_stop</th>\n      <th>comments</th>\n      <th>source</th>\n      <th>total_phases</th>\n    </tr>\n  </thead>\n  <tbody>\n    <tr>\n      <th>0</th>\n      <td>HI</td>\n      <td>NaN</td>\n      <td>NaN</td>\n      <td>state</td>\n      <td>2020-05-18</td>\n      <td>Manufacturing</td>\n      <td>start</td>\n      <td>Policy_Details: Open with adjusted \"Safe Pract...</td>\n      <td>sip_submission_form: https://governor.hawaii.g...</td>\n      <td>NaN</td>\n    </tr>\n    <tr>\n      <th>1</th>\n      <td>TX</td>\n      <td>Kinney</td>\n      <td>48271.0</td>\n      <td>county</td>\n      <td>2020-07-03</td>\n      <td>Mask Requirement</td>\n      <td>start</td>\n      <td>Policy_Details: County is approved to be exemp...</td>\n      <td>sip_submission_form: https://tdem.texas.gov/ga...</td>\n      <td>NaN</td>\n    </tr>\n    <tr>\n      <th>2</th>\n      <td>ID</td>\n      <td>Custer</td>\n      <td>16037.0</td>\n      <td>county</td>\n      <td>2020-10-27</td>\n      <td>Phase 3</td>\n      <td>start</td>\n      <td>Policy_Details: No greater than 50 people at i...</td>\n      <td>sip_submission_form: https://coronavirus.idaho...</td>\n      <td>4.0</td>\n    </tr>\n    <tr>\n      <th>3</th>\n      <td>UT</td>\n      <td>Wayne</td>\n      <td>49055.0</td>\n      <td>county</td>\n      <td>2020-11-24</td>\n      <td>Phase 1</td>\n      <td>start</td>\n      <td>Policy_Details: Restrictions for highest level...</td>\n      <td>sip_submission_form: https://coronavirus.utah....</td>\n      <td>3.0</td>\n    </tr>\n    <tr>\n      <th>4</th>\n      <td>TX</td>\n      <td>Borden</td>\n      <td>48033.0</td>\n      <td>county</td>\n      <td>2020-07-03</td>\n      <td>Mask Requirement</td>\n      <td>start</td>\n      <td>Policy_Details: County is approved to be exemp...</td>\n      <td>sip_submission_form: https://tdem.texas.gov/ga...</td>\n      <td>NaN</td>\n    </tr>\n    <tr>\n      <th>...</th>\n      <td>...</td>\n      <td>...</td>\n      <td>...</td>\n      <td>...</td>\n      <td>...</td>\n      <td>...</td>\n      <td>...</td>\n      <td>...</td>\n      <td>...</td>\n      <td>...</td>\n    </tr>\n    <tr>\n      <th>3712</th>\n      <td>AL</td>\n      <td>NaN</td>\n      <td>NaN</td>\n      <td>state</td>\n      <td>2020-11-08</td>\n      <td>Houses of Worship</td>\n      <td>stop</td>\n      <td>Policy_Details: On 9/30 amended Safer at Home ...</td>\n      <td>sip_submission_form: https://governor.alabama....</td>\n      <td>NaN</td>\n    </tr>\n    <tr>\n      <th>3713</th>\n      <td>OR</td>\n      <td>NaN</td>\n      <td>NaN</td>\n      <td>state</td>\n      <td>2020-12-02</td>\n      <td>Outdoor and Recreation</td>\n      <td>stop</td>\n      <td>Policy_Details: Outdoor and recreation facilit...</td>\n      <td>sip_submission_form: https://www.oregon.gov/go...</td>\n      <td>NaN</td>\n    </tr>\n    <tr>\n      <th>3714</th>\n      <td>TX</td>\n      <td>Travis County</td>\n      <td>48453.0</td>\n      <td>county</td>\n      <td>2020-05-08</td>\n      <td>Shelter in Place</td>\n      <td>stop</td>\n      <td>Travis County Policy End</td>\n      <td>wikidata</td>\n      <td>NaN</td>\n    </tr>\n    <tr>\n      <th>3715</th>\n      <td>TX</td>\n      <td>Liberty County</td>\n      <td>48291.0</td>\n      <td>county</td>\n      <td>2020-04-30</td>\n      <td>Shelter in Place</td>\n      <td>stop</td>\n      <td>Liberty County Policy End</td>\n      <td>wikidata</td>\n      <td>NaN</td>\n    </tr>\n    <tr>\n      <th>3716</th>\n      <td>MO</td>\n      <td>Johnson County</td>\n      <td>29101.0</td>\n      <td>county</td>\n      <td>2020-04-30</td>\n      <td>Shelter in Place</td>\n      <td>stop</td>\n      <td>Johnson County Policy End</td>\n      <td>wikidata</td>\n      <td>NaN</td>\n    </tr>\n  </tbody>\n</table>\n<p>3717 rows × 10 columns</p>\n</div>"
     },
     "metadata": {},
     "execution_count": 69
    }
   ],
   "source": [
    "mandates = pd.read_csv(f'{path}\\\\{FILE_NAME}.csv', index_col=False)\n",
    "mandates"
   ]
  },
  {
   "cell_type": "code",
   "execution_count": 70,
   "metadata": {},
   "outputs": [],
   "source": [
    "policy_mandates = [\"Shelter in Place\", \"Food and Drink\", \"Non-Essential Businesses\", \"Outdoor and Recreation\", \"Mandate Face Mask Use By All Individuals In Public Facing Businesses\", \"Mask Requirement\", \"Mandate Face Mask Use By All Individuals In Public Spaces\"]"
   ]
  },
  {
   "cell_type": "code",
   "execution_count": 71,
   "metadata": {},
   "outputs": [],
   "source": [
    "mandates_columns = mandates[[\"state_id\", \"policy_level\",\"date\",\"policy_type\",\"start_stop\"]]"
   ]
  },
  {
   "cell_type": "code",
   "execution_count": 72,
   "metadata": {},
   "outputs": [
    {
     "output_type": "execute_result",
     "data": {
      "text/plain": "     state_id policy_level        date  \\\n24         AL        state  2020-09-30   \n25         DC        state  2020-04-17   \n29         MO        state  2020-05-04   \n41         IN        state  2020-03-23   \n48         NJ        state  2020-04-08   \n...       ...          ...         ...   \n3577       NC        state  2020-03-30   \n3591       MS        state  2020-04-01   \n3593       AK        state  2020-05-08   \n3602       NH        state  2020-05-01   \n3608       NJ        state  2020-06-15   \n\n                                            policy_type start_stop  \n24                             Non-Essential Businesses      start  \n25    Mandate Face Mask Use By All Individuals In Pu...      start  \n29                               Outdoor and Recreation      start  \n41                             Non-Essential Businesses      start  \n48    Mandate Face Mask Use By All Individuals In Pu...      start  \n...                                                 ...        ...  \n3577                                   Shelter in Place      start  \n3591                           Non-Essential Businesses      start  \n3593                                     Food and Drink      start  \n3602  Mandate Face Mask Use By All Individuals In Pu...      start  \n3608                                     Food and Drink      start  \n\n[330 rows x 5 columns]",
      "text/html": "<div>\n<style scoped>\n    .dataframe tbody tr th:only-of-type {\n        vertical-align: middle;\n    }\n\n    .dataframe tbody tr th {\n        vertical-align: top;\n    }\n\n    .dataframe thead th {\n        text-align: right;\n    }\n</style>\n<table border=\"1\" class=\"dataframe\">\n  <thead>\n    <tr style=\"text-align: right;\">\n      <th></th>\n      <th>state_id</th>\n      <th>policy_level</th>\n      <th>date</th>\n      <th>policy_type</th>\n      <th>start_stop</th>\n    </tr>\n  </thead>\n  <tbody>\n    <tr>\n      <th>24</th>\n      <td>AL</td>\n      <td>state</td>\n      <td>2020-09-30</td>\n      <td>Non-Essential Businesses</td>\n      <td>start</td>\n    </tr>\n    <tr>\n      <th>25</th>\n      <td>DC</td>\n      <td>state</td>\n      <td>2020-04-17</td>\n      <td>Mandate Face Mask Use By All Individuals In Pu...</td>\n      <td>start</td>\n    </tr>\n    <tr>\n      <th>29</th>\n      <td>MO</td>\n      <td>state</td>\n      <td>2020-05-04</td>\n      <td>Outdoor and Recreation</td>\n      <td>start</td>\n    </tr>\n    <tr>\n      <th>41</th>\n      <td>IN</td>\n      <td>state</td>\n      <td>2020-03-23</td>\n      <td>Non-Essential Businesses</td>\n      <td>start</td>\n    </tr>\n    <tr>\n      <th>48</th>\n      <td>NJ</td>\n      <td>state</td>\n      <td>2020-04-08</td>\n      <td>Mandate Face Mask Use By All Individuals In Pu...</td>\n      <td>start</td>\n    </tr>\n    <tr>\n      <th>...</th>\n      <td>...</td>\n      <td>...</td>\n      <td>...</td>\n      <td>...</td>\n      <td>...</td>\n    </tr>\n    <tr>\n      <th>3577</th>\n      <td>NC</td>\n      <td>state</td>\n      <td>2020-03-30</td>\n      <td>Shelter in Place</td>\n      <td>start</td>\n    </tr>\n    <tr>\n      <th>3591</th>\n      <td>MS</td>\n      <td>state</td>\n      <td>2020-04-01</td>\n      <td>Non-Essential Businesses</td>\n      <td>start</td>\n    </tr>\n    <tr>\n      <th>3593</th>\n      <td>AK</td>\n      <td>state</td>\n      <td>2020-05-08</td>\n      <td>Food and Drink</td>\n      <td>start</td>\n    </tr>\n    <tr>\n      <th>3602</th>\n      <td>NH</td>\n      <td>state</td>\n      <td>2020-05-01</td>\n      <td>Mandate Face Mask Use By All Individuals In Pu...</td>\n      <td>start</td>\n    </tr>\n    <tr>\n      <th>3608</th>\n      <td>NJ</td>\n      <td>state</td>\n      <td>2020-06-15</td>\n      <td>Food and Drink</td>\n      <td>start</td>\n    </tr>\n  </tbody>\n</table>\n<p>330 rows × 5 columns</p>\n</div>"
     },
     "metadata": {},
     "execution_count": 72
    }
   ],
   "source": [
    "mandates_rows = mandates_columns[(mandates_columns[\"start_stop\"] == \"start\") & (mandates_columns[\"policy_level\"] == \"state\") & (mandates_columns[\"policy_type\"].isin(policy_mandates))]\n",
    "mandates_rows"
   ]
  },
  {
   "cell_type": "code",
   "execution_count": 73,
   "metadata": {},
   "outputs": [
    {
     "output_type": "execute_result",
     "data": {
      "text/plain": "    population state_id\n0     39776830       CA\n1     28704330       TX\n2     21312211       FL\n3     19862512       NY\n4     12823989       PA\n5     12768320       IL\n6     11694664       OH\n7     10545138       GA\n8     10390149       NC\n9      9991177       MI\n10     9032872       NJ\n11     8525660       VA\n12     7530552       WA\n13     7123898       AZ\n14     6895917       MA\n15     6782564       TN\n16     6699629       IN\n17     6135888       MO\n18     6079602       MD\n19     5818049       WI\n20     5684203       CO\n21     5628162       MN\n22     5088916       SC\n23     4888949       AL\n24     4682509       LA\n25     4472265       KY\n26     4199563       OR\n27     3940521       OK\n28     3588683       CT\n29     3160553       IA\n30     3159345       UT\n31     3056824       NV\n32     3020327       AR\n33     2982785       MS\n34     2918515       KS\n35     2090708       NM\n36     1932549       NE\n37     1803077       WV\n38     1753860       ID\n39     1426393       HI\n40     1350575       NH\n41     1341582       ME\n42     1062330       MT\n43     1061712       RI\n44      971180       DE\n45      877790       SD\n46      755238       ND\n47      738068       AK\n48      703608       DC\n49      623960       VT\n50      573720       WY",
      "text/html": "<div>\n<style scoped>\n    .dataframe tbody tr th:only-of-type {\n        vertical-align: middle;\n    }\n\n    .dataframe tbody tr th {\n        vertical-align: top;\n    }\n\n    .dataframe thead th {\n        text-align: right;\n    }\n</style>\n<table border=\"1\" class=\"dataframe\">\n  <thead>\n    <tr style=\"text-align: right;\">\n      <th></th>\n      <th>population</th>\n      <th>state_id</th>\n    </tr>\n  </thead>\n  <tbody>\n    <tr>\n      <th>0</th>\n      <td>39776830</td>\n      <td>CA</td>\n    </tr>\n    <tr>\n      <th>1</th>\n      <td>28704330</td>\n      <td>TX</td>\n    </tr>\n    <tr>\n      <th>2</th>\n      <td>21312211</td>\n      <td>FL</td>\n    </tr>\n    <tr>\n      <th>3</th>\n      <td>19862512</td>\n      <td>NY</td>\n    </tr>\n    <tr>\n      <th>4</th>\n      <td>12823989</td>\n      <td>PA</td>\n    </tr>\n    <tr>\n      <th>5</th>\n      <td>12768320</td>\n      <td>IL</td>\n    </tr>\n    <tr>\n      <th>6</th>\n      <td>11694664</td>\n      <td>OH</td>\n    </tr>\n    <tr>\n      <th>7</th>\n      <td>10545138</td>\n      <td>GA</td>\n    </tr>\n    <tr>\n      <th>8</th>\n      <td>10390149</td>\n      <td>NC</td>\n    </tr>\n    <tr>\n      <th>9</th>\n      <td>9991177</td>\n      <td>MI</td>\n    </tr>\n    <tr>\n      <th>10</th>\n      <td>9032872</td>\n      <td>NJ</td>\n    </tr>\n    <tr>\n      <th>11</th>\n      <td>8525660</td>\n      <td>VA</td>\n    </tr>\n    <tr>\n      <th>12</th>\n      <td>7530552</td>\n      <td>WA</td>\n    </tr>\n    <tr>\n      <th>13</th>\n      <td>7123898</td>\n      <td>AZ</td>\n    </tr>\n    <tr>\n      <th>14</th>\n      <td>6895917</td>\n      <td>MA</td>\n    </tr>\n    <tr>\n      <th>15</th>\n      <td>6782564</td>\n      <td>TN</td>\n    </tr>\n    <tr>\n      <th>16</th>\n      <td>6699629</td>\n      <td>IN</td>\n    </tr>\n    <tr>\n      <th>17</th>\n      <td>6135888</td>\n      <td>MO</td>\n    </tr>\n    <tr>\n      <th>18</th>\n      <td>6079602</td>\n      <td>MD</td>\n    </tr>\n    <tr>\n      <th>19</th>\n      <td>5818049</td>\n      <td>WI</td>\n    </tr>\n    <tr>\n      <th>20</th>\n      <td>5684203</td>\n      <td>CO</td>\n    </tr>\n    <tr>\n      <th>21</th>\n      <td>5628162</td>\n      <td>MN</td>\n    </tr>\n    <tr>\n      <th>22</th>\n      <td>5088916</td>\n      <td>SC</td>\n    </tr>\n    <tr>\n      <th>23</th>\n      <td>4888949</td>\n      <td>AL</td>\n    </tr>\n    <tr>\n      <th>24</th>\n      <td>4682509</td>\n      <td>LA</td>\n    </tr>\n    <tr>\n      <th>25</th>\n      <td>4472265</td>\n      <td>KY</td>\n    </tr>\n    <tr>\n      <th>26</th>\n      <td>4199563</td>\n      <td>OR</td>\n    </tr>\n    <tr>\n      <th>27</th>\n      <td>3940521</td>\n      <td>OK</td>\n    </tr>\n    <tr>\n      <th>28</th>\n      <td>3588683</td>\n      <td>CT</td>\n    </tr>\n    <tr>\n      <th>29</th>\n      <td>3160553</td>\n      <td>IA</td>\n    </tr>\n    <tr>\n      <th>30</th>\n      <td>3159345</td>\n      <td>UT</td>\n    </tr>\n    <tr>\n      <th>31</th>\n      <td>3056824</td>\n      <td>NV</td>\n    </tr>\n    <tr>\n      <th>32</th>\n      <td>3020327</td>\n      <td>AR</td>\n    </tr>\n    <tr>\n      <th>33</th>\n      <td>2982785</td>\n      <td>MS</td>\n    </tr>\n    <tr>\n      <th>34</th>\n      <td>2918515</td>\n      <td>KS</td>\n    </tr>\n    <tr>\n      <th>35</th>\n      <td>2090708</td>\n      <td>NM</td>\n    </tr>\n    <tr>\n      <th>36</th>\n      <td>1932549</td>\n      <td>NE</td>\n    </tr>\n    <tr>\n      <th>37</th>\n      <td>1803077</td>\n      <td>WV</td>\n    </tr>\n    <tr>\n      <th>38</th>\n      <td>1753860</td>\n      <td>ID</td>\n    </tr>\n    <tr>\n      <th>39</th>\n      <td>1426393</td>\n      <td>HI</td>\n    </tr>\n    <tr>\n      <th>40</th>\n      <td>1350575</td>\n      <td>NH</td>\n    </tr>\n    <tr>\n      <th>41</th>\n      <td>1341582</td>\n      <td>ME</td>\n    </tr>\n    <tr>\n      <th>42</th>\n      <td>1062330</td>\n      <td>MT</td>\n    </tr>\n    <tr>\n      <th>43</th>\n      <td>1061712</td>\n      <td>RI</td>\n    </tr>\n    <tr>\n      <th>44</th>\n      <td>971180</td>\n      <td>DE</td>\n    </tr>\n    <tr>\n      <th>45</th>\n      <td>877790</td>\n      <td>SD</td>\n    </tr>\n    <tr>\n      <th>46</th>\n      <td>755238</td>\n      <td>ND</td>\n    </tr>\n    <tr>\n      <th>47</th>\n      <td>738068</td>\n      <td>AK</td>\n    </tr>\n    <tr>\n      <th>48</th>\n      <td>703608</td>\n      <td>DC</td>\n    </tr>\n    <tr>\n      <th>49</th>\n      <td>623960</td>\n      <td>VT</td>\n    </tr>\n    <tr>\n      <th>50</th>\n      <td>573720</td>\n      <td>WY</td>\n    </tr>\n  </tbody>\n</table>\n</div>"
     },
     "metadata": {},
     "execution_count": 73
    }
   ],
   "source": [
    "# merge with state population \n",
    "population = pd.read_csv(f'{path}\\\\state_population.csv', index_col=False)\n",
    "states = pd.read_csv(f'{path}\\\\states.csv', index_col=False)\n",
    "state_population = pd.merge(population, states)\n",
    "state_population.drop([\"state\"], axis = 1)"
   ]
  },
  {
   "cell_type": "code",
   "execution_count": 84,
   "metadata": {},
   "outputs": [
    {
     "output_type": "execute_result",
     "data": {
      "text/plain": "    state_id        date                                        policy_type  \\\n0         AL  2020-09-30                           Non-Essential Businesses   \n1         AL  2020-07-16  Mandate Face Mask Use By All Individuals In Pu...   \n2         AL  2020-04-04                                   Shelter in Place   \n3         AL  2020-05-11                             Outdoor and Recreation   \n4         AL  2020-07-16                                   Mask Requirement   \n..       ...         ...                                                ...   \n308       NH  2020-08-11                                   Mask Requirement   \n309       NH  2020-05-11                           Non-Essential Businesses   \n310       NH  2020-05-04                             Outdoor and Recreation   \n311       NH  2020-05-18                                     Food and Drink   \n312       NH  2020-05-01  Mandate Face Mask Use By All Individuals In Pu...   \n\n    start_stop          state  population  \n0        start        Alabama     4888949  \n1        start        Alabama     4888949  \n2        start        Alabama     4888949  \n3        start        Alabama     4888949  \n4        start        Alabama     4888949  \n..         ...            ...         ...  \n308      start  New Hampshire     1350575  \n309      start  New Hampshire     1350575  \n310      start  New Hampshire     1350575  \n311      start  New Hampshire     1350575  \n312      start  New Hampshire     1350575  \n\n[313 rows x 6 columns]",
      "text/html": "<div>\n<style scoped>\n    .dataframe tbody tr th:only-of-type {\n        vertical-align: middle;\n    }\n\n    .dataframe tbody tr th {\n        vertical-align: top;\n    }\n\n    .dataframe thead th {\n        text-align: right;\n    }\n</style>\n<table border=\"1\" class=\"dataframe\">\n  <thead>\n    <tr style=\"text-align: right;\">\n      <th></th>\n      <th>state_id</th>\n      <th>date</th>\n      <th>policy_type</th>\n      <th>start_stop</th>\n      <th>state</th>\n      <th>population</th>\n    </tr>\n  </thead>\n  <tbody>\n    <tr>\n      <th>0</th>\n      <td>AL</td>\n      <td>2020-09-30</td>\n      <td>Non-Essential Businesses</td>\n      <td>start</td>\n      <td>Alabama</td>\n      <td>4888949</td>\n    </tr>\n    <tr>\n      <th>1</th>\n      <td>AL</td>\n      <td>2020-07-16</td>\n      <td>Mandate Face Mask Use By All Individuals In Pu...</td>\n      <td>start</td>\n      <td>Alabama</td>\n      <td>4888949</td>\n    </tr>\n    <tr>\n      <th>2</th>\n      <td>AL</td>\n      <td>2020-04-04</td>\n      <td>Shelter in Place</td>\n      <td>start</td>\n      <td>Alabama</td>\n      <td>4888949</td>\n    </tr>\n    <tr>\n      <th>3</th>\n      <td>AL</td>\n      <td>2020-05-11</td>\n      <td>Outdoor and Recreation</td>\n      <td>start</td>\n      <td>Alabama</td>\n      <td>4888949</td>\n    </tr>\n    <tr>\n      <th>4</th>\n      <td>AL</td>\n      <td>2020-07-16</td>\n      <td>Mask Requirement</td>\n      <td>start</td>\n      <td>Alabama</td>\n      <td>4888949</td>\n    </tr>\n    <tr>\n      <th>...</th>\n      <td>...</td>\n      <td>...</td>\n      <td>...</td>\n      <td>...</td>\n      <td>...</td>\n      <td>...</td>\n    </tr>\n    <tr>\n      <th>308</th>\n      <td>NH</td>\n      <td>2020-08-11</td>\n      <td>Mask Requirement</td>\n      <td>start</td>\n      <td>New Hampshire</td>\n      <td>1350575</td>\n    </tr>\n    <tr>\n      <th>309</th>\n      <td>NH</td>\n      <td>2020-05-11</td>\n      <td>Non-Essential Businesses</td>\n      <td>start</td>\n      <td>New Hampshire</td>\n      <td>1350575</td>\n    </tr>\n    <tr>\n      <th>310</th>\n      <td>NH</td>\n      <td>2020-05-04</td>\n      <td>Outdoor and Recreation</td>\n      <td>start</td>\n      <td>New Hampshire</td>\n      <td>1350575</td>\n    </tr>\n    <tr>\n      <th>311</th>\n      <td>NH</td>\n      <td>2020-05-18</td>\n      <td>Food and Drink</td>\n      <td>start</td>\n      <td>New Hampshire</td>\n      <td>1350575</td>\n    </tr>\n    <tr>\n      <th>312</th>\n      <td>NH</td>\n      <td>2020-05-01</td>\n      <td>Mandate Face Mask Use By All Individuals In Pu...</td>\n      <td>start</td>\n      <td>New Hampshire</td>\n      <td>1350575</td>\n    </tr>\n  </tbody>\n</table>\n<p>313 rows × 6 columns</p>\n</div>"
     },
     "metadata": {},
     "execution_count": 84
    }
   ],
   "source": [
    "mandates_all = pd.merge(mandates_rows, state_population)\n",
    "mandates_all.drop([\"policy_level\"], axis=1)\n",
    "mandates_all.loc[df[\"policy_type\"].str.contains(\"Mask\"), \"policy_type\"] = \"Mask Wearing\""
   ]
  },
  {
   "cell_type": "code",
   "execution_count": 85,
   "metadata": {},
   "outputs": [],
   "source": [
    "mandates_all.to_csv(\"mandates_all.csv\", index = False)"
   ]
  }
 ]
}