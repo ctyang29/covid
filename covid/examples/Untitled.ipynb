{
 "cells": [
  {
   "cell_type": "code",
   "execution_count": 14,
   "metadata": {},
   "outputs": [],
   "source": [
    "import pandas as pd\n",
    "import numpy as np\n",
    "\n",
    "state_count = np.array([[4, 7], [15,18], \n",
    "                                [18,21], [13,19], \n",
    "                                [10,15], [7,12], \n",
    "                                [4,6], [5,9],\n",
    "                                [8,10], [9,14],\n",
    "                                [13,15], [11,12], \n",
    "                                [12,17]])\n",
    "state_mandate = np.array([[4, 7], [15,18], \n",
    "                                [18,21], [13,19], \n",
    "                                [10,15], [7,12], \n",
    "                                [4,6], [5,9],\n",
    "                                [8,10], [9,14],\n",
    "                                [13,15], [11,12], \n",
    "                                [12,17]])\n",
    "def object_check(state_count,state_mandate):\n",
    "    \"\"\"\n",
    "\n",
    "    TBD\n",
    "\n",
    "    Args: state_count, state_mandate\n",
    "    Returns: True\n",
    "\n",
    "    \"\"\"\n",
    "    if isinstance(state_count, pd.DataFrame) and (state_mandate, pd.DataFrame):\n",
    "        return True\n",
    "    else:\n",
    "        return \"One or both of these data frames are not pandas dataframes\" "
   ]
  },
  {
   "cell_type": "code",
   "execution_count": 18,
   "metadata": {},
   "outputs": [
    {
     "data": {
      "text/plain": [
       "'One or both of these data frames are not pandas dataframes'"
      ]
     },
     "execution_count": 18,
     "metadata": {},
     "output_type": "execute_result"
    }
   ],
   "source": [
    "object_check(state_count,state_mandate)"
   ]
  },
  {
   "cell_type": "code",
   "execution_count": 17,
   "metadata": {},
   "outputs": [
    {
     "data": {
      "text/plain": [
       "True"
      ]
     },
     "execution_count": 17,
     "metadata": {},
     "output_type": "execute_result"
    }
   ],
   "source": [
    "isinstance(object_check(state_count,state_mandate),\n",
    "                        str)"
   ]
  },
  {
   "cell_type": "code",
   "execution_count": null,
   "metadata": {},
   "outputs": [],
   "source": []
  }
 ],
 "metadata": {
  "kernelspec": {
   "display_name": "Python 3",
   "language": "python",
   "name": "python3"
  },
  "language_info": {
   "codemirror_mode": {
    "name": "ipython",
    "version": 3
   },
   "file_extension": ".py",
   "mimetype": "text/x-python",
   "name": "python",
   "nbconvert_exporter": "python",
   "pygments_lexer": "ipython3",
   "version": "3.8.3"
  }
 },
 "nbformat": 4,
 "nbformat_minor": 4
}
